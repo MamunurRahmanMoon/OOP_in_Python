{
 "cells": [
  {
   "cell_type": "markdown",
   "id": "1d6c9bc8",
   "metadata": {},
   "source": [
    "# <font color=\"red\">Core concepts</font>\n",
    "## *Class\n",
    "## *Objects\n",
    "## *Polymorphism\n",
    "## *Encapsulation\n",
    "## *Inheritence\n",
    "## *Abstraction\n"
   ]
  },
  {
   "cell_type": "markdown",
   "metadata": {},
   "source": [
    "# ATM Software"
   ]
  },
  {
   "cell_type": "code",
   "execution_count": 14,
   "id": "2f21ac94",
   "metadata": {},
   "outputs": [],
   "source": [
    "# Class\n",
    "class Atm:\n",
    "\n",
    "\n",
    "    #Static variable\n",
    "    __counter = 0\n",
    "    \n",
    "    # Constructor: Constructor is a special method, which automaticlly excutes\n",
    "    # whenever a object is created of that class.\n",
    "    \n",
    "    def __init__(self):     # __init__ is a Constructor\n",
    "        \n",
    "        self.__pin = \"\"     # Internally : _Atm__pin\n",
    "        self.__balance = 0  # Internally : _Atm__balance ; So anyone \n",
    "                            # can access by knowing this name\n",
    "        self.serialNo = Atm.__counter\n",
    "        Atm.__counter += 1\n",
    "\n",
    "        ## Nothing is Private in Python, cz it is for Adult (^^)\n",
    "\n",
    "        self.menu()\n",
    "\n",
    "    ## Encapsulation for Counter\n",
    "    @staticmethod\n",
    "    def get_counter():                \n",
    "        return Atm.__counter\n",
    "    \n",
    "    def set_counter(self, new_counter):\n",
    "        if type(new_counter) == str:\n",
    "            Atm.__counter == new_counter\n",
    "        print(\"\")\n",
    "    ## Encapsulation for Counter\n",
    "\n",
    "    ## Encapsulation for PIN\n",
    "    def get_pin(self):                \n",
    "        return self.__pin\n",
    "\n",
    "    def set_pin(self, new_pin):\n",
    "        if type(new_pin) == str:\n",
    "            self.__pin = new_pin\n",
    "            print(\"PIN Changed\")\n",
    "    ## Encapsulation for PIN\n",
    "        \n",
    "    def menu(self):\n",
    "        user_input = input(\"\"\"\n",
    "                        Hello, how would you like to proceed?\n",
    "                        1. Enter 1 to Create PIN\n",
    "                        2. Enter 2 to Deposit\n",
    "                        3. Enter 3 to Withdraw\n",
    "                        4. Enter 4 to Check Balance\n",
    "                        5. Enter 5 to Exit\n",
    "                        6. To print the class/self ID\n",
    "        \"\"\")\n",
    "        \n",
    "        if user_input== \"1\":\n",
    "            self.create_pin()\n",
    "        elif user_input== \"2\":\n",
    "            self.deposit()\n",
    "        elif user_input== \"3\":\n",
    "            self.withdraw()\n",
    "        elif user_input== \"4\":\n",
    "            self.check_balance()\n",
    "        elif user_input== \"5\":\n",
    "            print(\"Exit successfull\")\n",
    "        else:\n",
    "            print(id(self))\n",
    "            \n",
    "    \n",
    "    def create_pin(self):\n",
    "        self.__pin = input(\"Enter your pin\")\n",
    "        print(\"Pin set successfully\")\n",
    "        \n",
    "    def deposit(self):\n",
    "        temp = input(\"Enter your PIN:\")\n",
    "        if temp == self.__pin:\n",
    "            amount = int(input(\"Enter deposit amount:\"))\n",
    "            if amount > 0:\n",
    "                self.__balance += amount\n",
    "                print(\"Deposit successfull\")\n",
    "            else:\n",
    "                print(\"Amount should be more than 0\")\n",
    "        else:\n",
    "            print(\"Invalid PIN\")\n",
    "            \n",
    "    def withdraw(self):\n",
    "        temp = input(\"Enter your PIN:\")\n",
    "        if temp == self.__pin:\n",
    "            amount = int(input(\"Enter withdraw amount:\"))\n",
    "            if amount > self.__balance:\n",
    "                print(\"Insufficient balance\")\n",
    "            else:\n",
    "                if amount > 0:\n",
    "                    self.__balance -= amount\n",
    "                    print(\"Withdraw successfull\")\n",
    "                else:\n",
    "                    print(\"Withdraw amount should be more than 0\")\n",
    "        else:\n",
    "            print(\"Invalid PIN\")\n",
    "    \n",
    "    def check_balance(self):\n",
    "        temp = input(\"Enter your PIN:\")\n",
    "        if temp == self.__pin:\n",
    "            print(self.__balance)\n",
    "        else:\n",
    "            print(\"Invalid PIN\")\n",
    "\n",
    "\n",
    "    "
   ]
  },
  {
   "cell_type": "code",
   "execution_count": 4,
   "id": "5cbd60fb",
   "metadata": {},
   "outputs": [],
   "source": [
    "#Function vs Method\n",
    "\n",
    "# L = list()\n",
    "\n",
    "# len(L) # Function\n",
    "\n",
    "# L.append(1) # Method\n",
    "# print(L)\n"
   ]
  },
  {
   "cell_type": "code",
   "execution_count": 2,
   "id": "af3b4e3a",
   "metadata": {},
   "outputs": [
    {
     "name": "stdout",
     "output_type": "stream",
     "text": [
      "Pin set successfully\n"
     ]
    }
   ],
   "source": [
    "dbbl = Atm()"
   ]
  },
  {
   "cell_type": "code",
   "execution_count": 25,
   "id": "b219a3f7",
   "metadata": {},
   "outputs": [
    {
     "name": "stdout",
     "output_type": "stream",
     "text": [
      "Deposit successfull\n"
     ]
    }
   ],
   "source": [
    "dbbl.deposit()"
   ]
  },
  {
   "cell_type": "code",
   "execution_count": 23,
   "id": "6b3f39c1",
   "metadata": {},
   "outputs": [],
   "source": [
    "dbbl.set_pin(1111)"
   ]
  },
  {
   "cell_type": "code",
   "execution_count": 7,
   "metadata": {},
   "outputs": [],
   "source": []
  },
  {
   "cell_type": "markdown",
   "metadata": {},
   "source": [
    "# <font color=\"red\">Magic Method / Dunder methods</font>\n",
    "\n",
    "### *Constructor is also a magic method\n",
    "\n",
    "### *We use Constructor when we want something to occur when the software or app is opened. Basically, in 'Consructor' we keep the 'Configuration' things that we dont want to give access to the user."
   ]
  },
  {
   "cell_type": "markdown",
   "metadata": {},
   "source": [
    "# <font color=\"red\">Why do we need 'self' in every method of a class?</font>\n",
    "\n",
    "### কারন পাইথনে কোনো class এর ২ টা জিনিস থাকে ঃ \n",
    "###              (১) Data\n",
    "###              (২) Method\n",
    "### আর পাইথনে নিয়ম হচ্ছে, কোনো Class এর Method অন্য Method কে এক্সেস \n",
    "### করতে পারে   না যতই সেই মেথড গুলো একই Class এর হোক না কেন।\n",
    "\n",
    "### তাই আমাদেরকে self এর মাধ্যমে এক মেথড থেকে অন্য মেথডে অথবা ঐ class এর Data এক্সেস করতে হয়।\n",
    "\n",
    "## কারন, 'self' হচ্ছে ঐ Class এর মেমরি আড্রেস, এক কথায় ঐ 'self' টাই হচ্ছে ঐ Class"
   ]
  },
  {
   "cell_type": "code",
   "execution_count": 20,
   "metadata": {},
   "outputs": [
    {
     "name": "stdout",
     "output_type": "stream",
     "text": [
      "ID of 'Atm' class: 2521569361120\n",
      "ID of the 'self' : \n",
      "2521596146016\n"
     ]
    }
   ],
   "source": [
    "print(f\"ID of 'Atm' class: {id(Atm)}\")  # Id of the Atm class\n",
    "\n",
    "# Select option 6 to get the ID of the 'self' keyword of the 'Atm' class\n",
    "print(\"ID of the 'self' : \")\n",
    "dbbl= Atm() ## ID of the 'self'"
   ]
  },
  {
   "cell_type": "code",
   "execution_count": 19,
   "metadata": {},
   "outputs": [
    {
     "name": "stdout",
     "output_type": "stream",
     "text": [
      "2521596145776\n"
     ]
    }
   ],
   "source": [
    "# class Fraction:\n",
    "#     def __init__(self, num, den):\n",
    "#         self.numerator = num\n",
    "#         self.denominator = den\n",
    "        "
   ]
  },
  {
   "cell_type": "markdown",
   "metadata": {},
   "source": [
    "# <font color=\"red\">Instance Variable</font>\n",
    "\n",
    "### It is a kind of variable for which the value of the variable is different fot fifferent objects. Example: pin, balance . Because those are different for different users."
   ]
  },
  {
   "cell_type": "markdown",
   "metadata": {},
   "source": [
    "# <font color=\"red\">Encapsulation</font>\n",
    "\n",
    "### We need Encapsulation to protect data by converting it to Private \n",
    "### We do this by Getter Setter\n",
    "\n",
    "    ## Encapsulation\n",
    "\n",
    "    def get_pin(self):                \n",
    "        return self.__pin    \n",
    "\n",
    "    def set_pin(self, new_pin):\n",
    "        if type(new_pin) == str:\n",
    "            self.__pin = new_pin\n",
    "            print(\"PIN Changed\")\n",
    "\n",
    "    ## Encapsulation"
   ]
  },
  {
   "cell_type": "markdown",
   "metadata": {},
   "source": [
    "# Reference Variable"
   ]
  },
  {
   "cell_type": "code",
   "execution_count": 29,
   "metadata": {},
   "outputs": [],
   "source": [
    "class Customer:\n",
    "    def __init__(self, name, gender):\n",
    "        self.name = name\n",
    "        self.gender = gender\n",
    "\n",
    "        \n",
    "def greet(customer):\n",
    "    print(customer.name)\n",
    "\n",
    "cus1 = Customer(\"Moon\", \"Male\") ## 'cus1' is the Reference variable "
   ]
  },
  {
   "cell_type": "code",
   "execution_count": 30,
   "metadata": {},
   "outputs": [
    {
     "name": "stdout",
     "output_type": "stream",
     "text": [
      "Moon\n"
     ]
    }
   ],
   "source": [
    "greet(cus1)"
   ]
  },
  {
   "cell_type": "markdown",
   "metadata": {},
   "source": [
    "# <font color=\"red\">Pass by Reference</font>"
   ]
  },
  {
   "cell_type": "code",
   "execution_count": 3,
   "metadata": {},
   "outputs": [
    {
     "name": "stdout",
     "output_type": "stream",
     "text": [
      "Myself Asif I am 24\n",
      "Myself Rashed I am 25\n"
     ]
    }
   ],
   "source": [
    "class Student:\n",
    "    def __init__(self, name, age):\n",
    "        self.name = name\n",
    "        self.age = age\n",
    "    def intro(self):\n",
    "        print(\"Myself\", self.name,\"I am\", self.age)\n",
    "\n",
    "s1 = Student(\"Asif\", 24)\n",
    "s2 = Student(\"Rashed\", 25)\n",
    "list1 = [s1, s2]\n",
    "\n",
    "for i in list1:\n",
    "    i.intro()"
   ]
  },
  {
   "cell_type": "markdown",
   "metadata": {},
   "source": [
    "# <font color=\"red\">Static variable / Class variable</font>\n",
    "\n",
    "### Its a variable which is same *(same variable is used for different user)* for every user.\n",
    "\n",
    "### Static ভেরিয়েবল তখনই দরকার হয় যখন কোনো class এর প্রত্যেকটা object এর জন্য একই জিনিস লাগে অর্থাৎ প্রত্যেক object এর Shared কিছু দরকার হয়।\n",
    "\n",
    "### static variable is used when every object or every instances need to share a common variable from the class."
   ]
  },
  {
   "cell_type": "code",
   "execution_count": 15,
   "metadata": {},
   "outputs": [
    {
     "name": "stdout",
     "output_type": "stream",
     "text": [
      "Pin set successfully\n"
     ]
    }
   ],
   "source": [
    "c1 = Atm()"
   ]
  },
  {
   "cell_type": "code",
   "execution_count": 19,
   "metadata": {},
   "outputs": [
    {
     "data": {
      "text/plain": [
       "0"
      ]
     },
     "execution_count": 19,
     "metadata": {},
     "output_type": "execute_result"
    }
   ],
   "source": [
    "c1.serialNo"
   ]
  },
  {
   "cell_type": "code",
   "execution_count": 20,
   "metadata": {},
   "outputs": [
    {
     "name": "stdout",
     "output_type": "stream",
     "text": [
      "Pin set successfully\n"
     ]
    },
    {
     "data": {
      "text/plain": [
       "1"
      ]
     },
     "execution_count": 20,
     "metadata": {},
     "output_type": "execute_result"
    }
   ],
   "source": [
    "c2 = Atm()\n",
    "c2.serialNo"
   ]
  },
  {
   "cell_type": "code",
   "execution_count": 24,
   "metadata": {},
   "outputs": [
    {
     "name": "stdout",
     "output_type": "stream",
     "text": [
      "Pin set successfully\n"
     ]
    },
    {
     "data": {
      "text/plain": [
       "2"
      ]
     },
     "execution_count": 24,
     "metadata": {},
     "output_type": "execute_result"
    }
   ],
   "source": [
    "c3 = Atm()\n",
    "c3.serialNo"
   ]
  },
  {
   "cell_type": "code",
   "execution_count": null,
   "metadata": {},
   "outputs": [],
   "source": [
    "## Effect of Private variable\n",
    "c2.counter   #\n",
    "                ## As we have made the counter variable Private, so we cant access them\n",
    "Atm.counter  #"
   ]
  },
  {
   "cell_type": "code",
   "execution_count": 22,
   "metadata": {},
   "outputs": [
    {
     "data": {
      "text/plain": [
       "2"
      ]
     },
     "execution_count": 22,
     "metadata": {},
     "output_type": "execute_result"
    }
   ],
   "source": [
    "## To get access to the couner variable, we need to create Getter & Setter methods\n",
    "Atm.get_counter()\n"
   ]
  },
  {
   "cell_type": "markdown",
   "metadata": {},
   "source": [
    "# <font color=\"red\">Relationship of Classes</font>\n",
    "# >> 2 types: \n",
    "## (1) Aggregation [Has-A] \n",
    "## (2)Inheritence [Is-A]"
   ]
  },
  {
   "attachments": {
    "Class Relationship - Aggreagation.jpeg": {
     "image/jpeg": "[encoded data removed]"
    }
   },
   "cell_type": "markdown",
   "metadata": {},
   "source": [
    "# <font color=\"cyan\">(1) Aggregation [Has-A] >>>>>>>></font>\n",
    "![Class Relationship - Aggreagation.jpeg](<attachment:Class Relationship - Aggreagation.jpeg>)\n",
    "\n",
    "### এক class এর রেফারেন্স অন্য class এ থাকা কে Aggregation বলে"
   ]
  },
  {
   "cell_type": "code",
   "execution_count": 37,
   "metadata": {},
   "outputs": [],
   "source": [
    "class Customer:\n",
    "    def __init__(self, name, gender, address):\n",
    "        self.name = name\n",
    "        self.gender = gender\n",
    "        self.address = address\n",
    "\n",
    "    def edit_profile(self, new_name, new_district, new_zipcode, new_post):\n",
    "        self.name = new_name\n",
    "        self.address.change_address(new_district, new_zipcode, new_post)\n",
    "\n",
    "class Address:\n",
    "    def __init__(self, district, zipcode, post):\n",
    "        self.district = district\n",
    "        self.zipcode = zipcode\n",
    "        self.post = post\n",
    "    \n",
    "    def change_address(self, new_district, new_zipcode, new_post):\n",
    "        self.district = new_district\n",
    "        self.zipcode = new_zipcode\n",
    "        self.post = new_post\n",
    "\n"
   ]
  },
  {
   "cell_type": "code",
   "execution_count": 38,
   "metadata": {},
   "outputs": [
    {
     "name": "stdout",
     "output_type": "stream",
     "text": [
      "Moon Male Rangpur\n"
     ]
    }
   ],
   "source": [
    "add = Address(\"Rangpur\", 5460, \"Girai\")\n",
    "cust = Customer(\"Moon\", \"Male\", add)\n",
    "\n",
    "print(cust.name, cust.gender, cust.address.district)"
   ]
  },
  {
   "cell_type": "code",
   "execution_count": 41,
   "metadata": {},
   "outputs": [
    {
     "name": "stdout",
     "output_type": "stream",
     "text": [
      "Asif Male Dinajpur Ghoraghat\n"
     ]
    }
   ],
   "source": [
    "cust.edit_profile(\"Asif\", \"Dinajpur\", 5460, \"Ghoraghat\")\n",
    "print(cust.name, cust.gender, cust.address.district, cust.address.post)"
   ]
  },
  {
   "cell_type": "markdown",
   "metadata": {},
   "source": [
    "## <font color=\"cyan\">(2) Inheritence [Is-A] >>>>>>>> </font>\n",
    "\n",
    "> *Inheritance gives acces to - Data members/variables, member functions/ functions, Constructor\n",
    "\n",
    "> *Inheritence cant acces private members"
   ]
  },
  {
   "cell_type": "code",
   "execution_count": 42,
   "metadata": {},
   "outputs": [],
   "source": [
    "class User:\n",
    "    def login(self):\n",
    "        print(\"login\")\n",
    "\n",
    "    def registration(self):\n",
    "        print(\"Register\")\n",
    "\n",
    "class Trainee(User):\n",
    "    def enroll(self):\n",
    "        print(\"Enroll\")\n",
    "\n",
    "    def review(self):\n",
    "        print(\"Review\")\n",
    "\n"
   ]
  },
  {
   "cell_type": "code",
   "execution_count": 48,
   "metadata": {},
   "outputs": [
    {
     "name": "stdout",
     "output_type": "stream",
     "text": [
      "login\n"
     ]
    }
   ],
   "source": [
    "tr1 = Trainee()\n",
    "tr1.login()"
   ]
  },
  {
   "cell_type": "markdown",
   "metadata": {},
   "source": [
    "#### Constructor accessing"
   ]
  },
  {
   "cell_type": "code",
   "execution_count": 54,
   "metadata": {},
   "outputs": [],
   "source": [
    "class Phone:\n",
    "    def __init__(self, price, brand):\n",
    "        print(\"Inside the 'Phone' class 'Constructor'\")\n",
    "        self.price = price\n",
    "        self.__brand = brand\n",
    "\n",
    "class Android(Phone):\n",
    "    pass"
   ]
  },
  {
   "cell_type": "code",
   "execution_count": 56,
   "metadata": {},
   "outputs": [
    {
     "name": "stdout",
     "output_type": "stream",
     "text": [
      "Inside the 'Phone' class 'Constructor'\n"
     ]
    },
    {
     "data": {
      "text/plain": [
       "50000"
      ]
     },
     "execution_count": 56,
     "metadata": {},
     "output_type": "execute_result"
    }
   ],
   "source": [
    "android1 = Android(50000, \"Apple\")  # Android class has no Constructor thats why it will go for its Inherited class's Constructor\n",
    "\n"
   ]
  },
  {
   "cell_type": "code",
   "execution_count": null,
   "metadata": {},
   "outputs": [],
   "source": [
    "android1.price  ## 'price' is public, so we can access it"
   ]
  },
  {
   "cell_type": "code",
   "execution_count": 57,
   "metadata": {},
   "outputs": [
    {
     "ename": "AttributeError",
     "evalue": "'Android' object has no attribute '__brand'",
     "output_type": "error",
     "traceback": [
      "\u001b[1;31m---------------------------------------------------------------------------\u001b[0m",
      "\u001b[1;31mAttributeError\u001b[0m                            Traceback (most recent call last)",
      "\u001b[1;32m~\\AppData\\Local\\Temp/ipykernel_40176/713956786.py\u001b[0m in \u001b[0;36m<module>\u001b[1;34m\u001b[0m\n\u001b[1;32m----> 1\u001b[1;33m \u001b[0mandroid1\u001b[0m\u001b[1;33m.\u001b[0m\u001b[0m__brand\u001b[0m\u001b[1;33m\u001b[0m\u001b[1;33m\u001b[0m\u001b[0m\n\u001b[0m",
      "\u001b[1;31mAttributeError\u001b[0m: 'Android' object has no attribute '__brand'"
     ]
    }
   ],
   "source": [
    "android1.__brand ## Throws error because '__brand' is Private"
   ]
  },
  {
   "cell_type": "markdown",
   "metadata": {},
   "source": [
    "# <font color=\"red\">Polymorphism</font>\n",
    "\n",
    "#### Method overriding\n",
    "#### Method overloading\n",
    "#### Operator overloading"
   ]
  },
  {
   "cell_type": "markdown",
   "metadata": {},
   "source": [
    "### <font color=\"red\">Method overriding</font>\n",
    "\n",
    "> Method overriding means, if same method is in the parent and child class, then the method will be executed for the class by which the object/instance was being created\n",
    "\n",
    "> অর্থাৎ, যে ক্লাস দিয়ে object খোলা হইছে ঐ class এর method ই call হবে"
   ]
  },
  {
   "cell_type": "code",
   "execution_count": 4,
   "metadata": {},
   "outputs": [],
   "source": [
    "class TV:\n",
    "    def __init__(self, price, brand):\n",
    "        print(\"Inside the 'TV' class 'Constructor'\")\n",
    "        self.price = price\n",
    "        self.__brand = brand\n",
    "    def buy(self):\n",
    "        print(\"Buy TV\")\n",
    "\n",
    "class SmartTV(TV):\n",
    "    def buy(self):\n",
    "        print(\"Buy Samrt TV\")\n"
   ]
  },
  {
   "cell_type": "code",
   "execution_count": 5,
   "metadata": {},
   "outputs": [
    {
     "name": "stdout",
     "output_type": "stream",
     "text": [
      "Inside the 'TV' class 'Constructor'\n"
     ]
    }
   ],
   "source": [
    "tv_cust = SmartTV(80000, \"Sony\")"
   ]
  },
  {
   "cell_type": "code",
   "execution_count": 6,
   "metadata": {},
   "outputs": [
    {
     "name": "stdout",
     "output_type": "stream",
     "text": [
      "Buy Samrt TV\n"
     ]
    }
   ],
   "source": [
    "tv_cust.buy()"
   ]
  },
  {
   "cell_type": "markdown",
   "metadata": {},
   "source": [
    "### <font color=\"red\">Method overloading</font>\n",
    "\n",
    "> একই Method কে বিভিন্ন parameter দিয়ে ভিন্ন ভিন্ন কাজ বা বৈশিষ্ট্য দেয়াকে বলা হয় Method-overloading."
   ]
  },
  {
   "cell_type": "markdown",
   "metadata": {},
   "source": [
    "> <font color='blue'>This will give error in Python</font>"
   ]
  },
  {
   "cell_type": "code",
   "execution_count": 1,
   "metadata": {},
   "outputs": [],
   "source": [
    "## This will give error in Python\n",
    "class Geometry():\n",
    "    def area(self, radius):\n",
    "        print(3.14 * radius * radius)\n",
    "    \n",
    "    def area(self,radius, length,):\n",
    "        print(f'Circle: {3.14 * radius * radius}, Rectangle: {length*length}')"
   ]
  },
  {
   "cell_type": "code",
   "execution_count": 3,
   "metadata": {},
   "outputs": [
    {
     "ename": "TypeError",
     "evalue": "area() missing 1 required positional argument: 'length'",
     "output_type": "error",
     "traceback": [
      "\u001b[1;31m---------------------------------------------------------------------------\u001b[0m",
      "\u001b[1;31mTypeError\u001b[0m                                 Traceback (most recent call last)",
      "\u001b[1;32m~\\AppData\\Local\\Temp/ipykernel_44472/474137666.py\u001b[0m in \u001b[0;36m<module>\u001b[1;34m\u001b[0m\n\u001b[0;32m      1\u001b[0m \u001b[0mg1\u001b[0m \u001b[1;33m=\u001b[0m \u001b[0mGeometry\u001b[0m\u001b[1;33m(\u001b[0m\u001b[1;33m)\u001b[0m\u001b[1;33m\u001b[0m\u001b[1;33m\u001b[0m\u001b[0m\n\u001b[0;32m      2\u001b[0m \u001b[0mg1\u001b[0m\u001b[1;33m.\u001b[0m\u001b[0marea\u001b[0m\u001b[1;33m(\u001b[0m\u001b[1;36m2\u001b[0m\u001b[1;33m,\u001b[0m\u001b[1;36m3\u001b[0m\u001b[1;33m)\u001b[0m\u001b[1;33m\u001b[0m\u001b[1;33m\u001b[0m\u001b[0m\n\u001b[1;32m----> 3\u001b[1;33m \u001b[0mg1\u001b[0m\u001b[1;33m.\u001b[0m\u001b[0marea\u001b[0m\u001b[1;33m(\u001b[0m\u001b[1;36m2\u001b[0m\u001b[1;33m)\u001b[0m\u001b[1;33m\u001b[0m\u001b[1;33m\u001b[0m\u001b[0m\n\u001b[0m",
      "\u001b[1;31mTypeError\u001b[0m: area() missing 1 required positional argument: 'length'"
     ]
    }
   ],
   "source": [
    "g1 = Geometry()\n",
    "g1.area(2,3)  ## For 2 parameter it is working fine\n",
    "g1.area(2) ## For 1 parameter it will give ERROR"
   ]
  },
  {
   "cell_type": "markdown",
   "metadata": {},
   "source": [
    "> <font color='blue'>Right way to implement Method overloading in Python</font>"
   ]
  },
  {
   "cell_type": "code",
   "execution_count": 9,
   "metadata": {},
   "outputs": [],
   "source": [
    "## Right way to implement Method overloading in Python\n",
    "class Geometry():\n",
    "    def area(self,radius, length=0):\n",
    "        print(f'Circle: {3.14 * radius * radius}, Rectangle: {length*length}')"
   ]
  },
  {
   "cell_type": "code",
   "execution_count": 10,
   "metadata": {},
   "outputs": [
    {
     "name": "stdout",
     "output_type": "stream",
     "text": [
      "Circle: 12.56, Rectangle: 9\n",
      "Circle: 12.56, Rectangle: 0\n"
     ]
    }
   ],
   "source": [
    "g1 = Geometry()\n",
    "g1.area(2,3)  \n",
    "g1.area(2) "
   ]
  },
  {
   "cell_type": "markdown",
   "metadata": {},
   "source": [
    "### <font color=\"red\">Operator overloading</font>\n",
    "\n",
    "> কোন class এর Method অথবা ঐ class এর যে কোনো Operator কে Overload করে বা নিজেদের মত change করে দিয়ে ভিন্ন ভিন্ন কাজ বা বৈশিষ্ট্য দেয়াকে বলা হয় Operator-overloading."
   ]
  },
  {
   "cell_type": "markdown",
   "metadata": {},
   "source": [
    "### <font color=\"red\">'Super'</font> keyword\n",
    "\n",
    "> super() means the parent class\n",
    "\n",
    "> with this super(), we can access to the Parent Constructor and Parent methods\n",
    "\n",
    "> we can not access attributes of the 'parent' class\n",
    "\n",
    "> <font color=\"cyan\">super() keyword has to be in the 'first' line of the 'Constructor'</font>\n",
    "\n",
    "> অর্ধেক কাজ নিজের Constructor এ করতেছি, আর বাকি অর্ধেক কাজ Initialize করতেছি\n",
    "Parent এর Constructor কাছে super() এর মাধ্যমে।"
   ]
  },
  {
   "cell_type": "code",
   "execution_count": 10,
   "metadata": {},
   "outputs": [],
   "source": [
    "class Computer:\n",
    "\n",
    "    def __init__(self, os, ram, processor):\n",
    "\n",
    "        print(\"From Computer Constructor\")\n",
    "        self.os = os\n",
    "        self.ram = ram\n",
    "        self.processor = processor\n",
    "\n",
    "class Laptop(Computer):\n",
    "\n",
    "    def __init__(self, size, dis_type, storage, os, ram, processor):\n",
    "\n",
    "        super().__init__(os, ram, processor) # These parameteres are given to the parent Constructor by using Super()\n",
    "        print(\"From Laptop Constructor\")\n",
    "        self.size = size\n",
    "        self.dis_type = dis_type\n",
    "        self.storage = storage\n",
    "\n"
   ]
  },
  {
   "cell_type": "code",
   "execution_count": 11,
   "metadata": {},
   "outputs": [
    {
     "name": "stdout",
     "output_type": "stream",
     "text": [
      "From Computer Constructor\n",
      "From Laptop Constructor\n"
     ]
    }
   ],
   "source": [
    "com1 = Laptop(15.6, \"4k\", \"dual\", \"windows\", \"16gb\", \"core i7\")"
   ]
  },
  {
   "cell_type": "markdown",
   "metadata": {},
   "source": [
    ">> Problem-1: (super related)"
   ]
  },
  {
   "cell_type": "code",
   "execution_count": 20,
   "metadata": {},
   "outputs": [],
   "source": [
    "class Parent:\n",
    "    def __init__(self):\n",
    "        self.num = 200\n",
    "\n",
    "class Child(Parent):\n",
    "    def __init__(self):\n",
    "        # super().__init__() \n",
    "        self.val = 100\n",
    "    def show(self):\n",
    "        print(self.num)\n",
    "        print(self.val)\n"
   ]
  },
  {
   "cell_type": "code",
   "execution_count": 21,
   "metadata": {},
   "outputs": [
    {
     "ename": "AttributeError",
     "evalue": "'Child' object has no attribute 'num'",
     "output_type": "error",
     "traceback": [
      "\u001b[1;31m---------------------------------------------------------------------------\u001b[0m",
      "\u001b[1;31mAttributeError\u001b[0m                            Traceback (most recent call last)",
      "\u001b[1;32m~\\AppData\\Local\\Temp/ipykernel_34268/3380470309.py\u001b[0m in \u001b[0;36m<module>\u001b[1;34m\u001b[0m\n\u001b[0;32m      1\u001b[0m \u001b[0mson\u001b[0m \u001b[1;33m=\u001b[0m \u001b[0mChild\u001b[0m\u001b[1;33m(\u001b[0m\u001b[1;33m)\u001b[0m\u001b[1;33m\u001b[0m\u001b[1;33m\u001b[0m\u001b[0m\n\u001b[1;32m----> 2\u001b[1;33m \u001b[0mson\u001b[0m\u001b[1;33m.\u001b[0m\u001b[0mshow\u001b[0m\u001b[1;33m(\u001b[0m\u001b[1;33m)\u001b[0m\u001b[1;33m\u001b[0m\u001b[1;33m\u001b[0m\u001b[0m\n\u001b[0m",
      "\u001b[1;32m~\\AppData\\Local\\Temp/ipykernel_34268/3476116927.py\u001b[0m in \u001b[0;36mshow\u001b[1;34m(self)\u001b[0m\n\u001b[0;32m      8\u001b[0m         \u001b[0mself\u001b[0m\u001b[1;33m.\u001b[0m\u001b[0mval\u001b[0m \u001b[1;33m=\u001b[0m \u001b[1;36m100\u001b[0m\u001b[1;33m\u001b[0m\u001b[1;33m\u001b[0m\u001b[0m\n\u001b[0;32m      9\u001b[0m     \u001b[1;32mdef\u001b[0m \u001b[0mshow\u001b[0m\u001b[1;33m(\u001b[0m\u001b[0mself\u001b[0m\u001b[1;33m)\u001b[0m\u001b[1;33m:\u001b[0m\u001b[1;33m\u001b[0m\u001b[1;33m\u001b[0m\u001b[0m\n\u001b[1;32m---> 10\u001b[1;33m         \u001b[0mprint\u001b[0m\u001b[1;33m(\u001b[0m\u001b[0mself\u001b[0m\u001b[1;33m.\u001b[0m\u001b[0mnum\u001b[0m\u001b[1;33m)\u001b[0m\u001b[1;33m\u001b[0m\u001b[1;33m\u001b[0m\u001b[0m\n\u001b[0m\u001b[0;32m     11\u001b[0m         \u001b[0mprint\u001b[0m\u001b[1;33m(\u001b[0m\u001b[0mself\u001b[0m\u001b[1;33m.\u001b[0m\u001b[0mval\u001b[0m\u001b[1;33m)\u001b[0m\u001b[1;33m\u001b[0m\u001b[1;33m\u001b[0m\u001b[0m\n",
      "\u001b[1;31mAttributeError\u001b[0m: 'Child' object has no attribute 'num'"
     ]
    }
   ],
   "source": [
    "son = Child()\n",
    "son.show()"
   ]
  },
  {
   "attachments": {
    "Types of inheritance.jpeg": {
     "image/jpeg": "[encoded data removed]"
    }
   },
   "cell_type": "markdown",
   "metadata": {},
   "source": [
    "## <font color=\"red\">Types of Inheritance</font>\n",
    "> Single level\n",
    "\n",
    "> Multi-level\n",
    "\n",
    "> Hierarchial level\n",
    "\n",
    "> Multiple inheritance\n",
    "\n",
    "> Hybrid inheritance\n",
    "\n",
    "![Types of inheritance.jpeg](<attachment:Types of inheritance.jpeg>)"
   ]
  }
 ],
 "metadata": {
  "kernelspec": {
   "display_name": "Python 3 (ipykernel)",
   "language": "python",
   "name": "python3"
  },
  "language_info": {
   "codemirror_mode": {
    "name": "ipython",
    "version": 3
   },
   "file_extension": ".py",
   "mimetype": "text/x-python",
   "name": "python",
   "nbconvert_exporter": "python",
   "pygments_lexer": "ipython3",
   "version": "3.9.7"
  }
 },
 "nbformat": 4,
 "nbformat_minor": 5
}
